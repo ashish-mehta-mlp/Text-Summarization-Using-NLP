{
 "cells": [
  {
   "cell_type": "markdown",
   "metadata": {},
   "source": [
    "#### What is text Summarization? \n",
    "\n",
    "- Text Summarization is the process of Distilling most important information from a source text."
   ]
  },
  {
   "cell_type": "markdown",
   "metadata": {},
   "source": [
    "- How to do Text Summarization?\n",
    "\n",
    "  \n",
    "  1. Text Cleaning\n",
    "  2. Sentence Tokenozation\n",
    "  3. Word Tokenization\n",
    "  4. Word-Frequency Table\n",
    "  5. Summarization"
   ]
  },
  {
   "cell_type": "code",
   "execution_count": 17,
   "metadata": {},
   "outputs": [],
   "source": [
    "text = \"\"\"Earth is the third planet from the Sun and the only astronomical object known to harbor life. According to radiometric dating and other evidence, Earth formed over 4.5 billion years ago. Earth's gravity interacts with other objects in space, especially the Sun and the Moon, which is Earth's only natural satellite. Earth orbits around the Sun in 365.256 solar days, a period known as an Earth sidereal year. During this time, Earth rotates about its axis 366.256 times, that is, a sidereal year has 366.256 sidereal days. Earth's axis of rotation is tilted with respect to its orbital plane, producing seasons on Earth. \n",
    "The gravitational interaction between Earth and the Moon causes tides, stabilizes Earth's orientation on its axis, and gradually slows its rotation. Earth is the densest planet in the Solar System and the largest and most massive of the four rocky planets.\n",
    "Earth's outer layer (lithosphere) is divided into several rigid tectonic plates that migrate across the surface over many millions of years. About 29% of Earth's surface is land consisting of continents and islands. The remaining 71% is covered with water, mostly by oceans but also lakes, rivers and other fresh water, which all together constitute the hydrosphere. The majority of Earth's polar regions are covered in ice, including the Antarctic ice sheet and the sea ice of the Arctic ice pack. Earth's interior remains active with a solid iron inner core, a liquid outer core that generates Earth's magnetic field, and a convecting mantle that drives plate tectonics.\"\"\""
   ]
  },
  {
   "cell_type": "code",
   "execution_count": 18,
   "metadata": {},
   "outputs": [],
   "source": [
    "# Importing Libraries\n",
    "\n",
    "import spacy\n",
    "from spacy.lang.en.stop_words import STOP_WORDS\n",
    "from string import punctuation"
   ]
  },
  {
   "cell_type": "code",
   "execution_count": 19,
   "metadata": {},
   "outputs": [],
   "source": [
    "stopwords = list(STOP_WORDS)"
   ]
  },
  {
   "cell_type": "code",
   "execution_count": 20,
   "metadata": {},
   "outputs": [
    {
     "data": {
      "text/plain": [
       "['enough', 'rather', 'until', 'least', 'have']"
      ]
     },
     "execution_count": 20,
     "metadata": {},
     "output_type": "execute_result"
    }
   ],
   "source": [
    "stopwords[:5]"
   ]
  },
  {
   "cell_type": "code",
   "execution_count": 21,
   "metadata": {},
   "outputs": [],
   "source": [
    "# Creating a nlp model\n",
    "\n",
    "nlp = spacy.load(\"en_core_web_sm\")"
   ]
  },
  {
   "cell_type": "code",
   "execution_count": 22,
   "metadata": {},
   "outputs": [],
   "source": [
    "doc = nlp(text)"
   ]
  },
  {
   "cell_type": "code",
   "execution_count": 24,
   "metadata": {},
   "outputs": [
    {
     "name": "stdout",
     "output_type": "stream",
     "text": [
      "['Earth', 'is', 'the', 'third', 'planet', 'from', 'the', 'Sun', 'and', 'the', 'only', 'astronomical', 'object', 'known', 'to', 'harbor', 'life', '.', 'According', 'to', 'radiometric', 'dating', 'and', 'other', 'evidence', ',', 'Earth', 'formed', 'over', '4.5', 'billion', 'years', 'ago', '.', 'Earth', \"'s\", 'gravity', 'interacts', 'with', 'other', 'objects', 'in', 'space', ',', 'especially', 'the', 'Sun', 'and', 'the', 'Moon', ',', 'which', 'is', 'Earth', \"'s\", 'only', 'natural', 'satellite', '.', 'Earth', 'orbits', 'around', 'the', 'Sun', 'in', '365.256', 'solar', 'days', ',', 'a', 'period', 'known', 'as', 'an', 'Earth', 'sidereal', 'year', '.', 'During', 'this', 'time', ',', 'Earth', 'rotates', 'about', 'its', 'axis', '366.256', 'times', ',', 'that', 'is', ',', 'a', 'sidereal', 'year', 'has', '366.256', 'sidereal', 'days', '.', 'Earth', \"'s\", 'axis', 'of', 'rotation', 'is', 'tilted', 'with', 'respect', 'to', 'its', 'orbital', 'plane', ',', 'producing', 'seasons', 'on', 'Earth', '.', '\\n', 'The', 'gravitational', 'interaction', 'between', 'Earth', 'and', 'the', 'Moon', 'causes', 'tides', ',', 'stabilizes', 'Earth', \"'s\", 'orientation', 'on', 'its', 'axis', ',', 'and', 'gradually', 'slows', 'its', 'rotation', '.', 'Earth', 'is', 'the', 'densest', 'planet', 'in', 'the', 'Solar', 'System', 'and', 'the', 'largest', 'and', 'most', 'massive', 'of', 'the', 'four', 'rocky', 'planets', '.', '\\n', 'Earth', \"'s\", 'outer', 'layer', '(', 'lithosphere', ')', 'is', 'divided', 'into', 'several', 'rigid', 'tectonic', 'plates', 'that', 'migrate', 'across', 'the', 'surface', 'over', 'many', 'millions', 'of', 'years', '.', 'About', '29', '%', 'of', 'Earth', \"'s\", 'surface', 'is', 'land', 'consisting', 'of', 'continents', 'and', 'islands', '.', 'The', 'remaining', '71', '%', 'is', 'covered', 'with', 'water', ',', 'mostly', 'by', 'oceans', 'but', 'also', 'lakes', ',', 'rivers', 'and', 'other', 'fresh', 'water', ',', 'which', 'all', 'together', 'constitute', 'the', 'hydrosphere', '.', 'The', 'majority', 'of', 'Earth', \"'s\", 'polar', 'regions', 'are', 'covered', 'in', 'ice', ',', 'including', 'the', 'Antarctic', 'ice', 'sheet', 'and', 'the', 'sea', 'ice', 'of', 'the', 'Arctic', 'ice', 'pack', '.', 'Earth', \"'s\", 'interior', 'remains', 'active', 'with', 'a', 'solid', 'iron', 'inner', 'core', ',', 'a', 'liquid', 'outer', 'core', 'that', 'generates', 'Earth', \"'s\", 'magnetic', 'field', ',', 'and', 'a', 'convecting', 'mantle', 'that', 'drives', 'plate', 'tectonics', '.']\n"
     ]
    }
   ],
   "source": [
    "tokens = [token.text for token in doc]\n",
    "print(tokens)"
   ]
  },
  {
   "cell_type": "markdown",
   "metadata": {},
   "source": [
    "- We need to notice here that stop words and punctuations are also part of tokens."
   ]
  },
  {
   "cell_type": "markdown",
   "metadata": {},
   "source": [
    "### Removing stopwords and punctiations"
   ]
  },
  {
   "cell_type": "code",
   "execution_count": 25,
   "metadata": {},
   "outputs": [
    {
     "data": {
      "text/plain": [
       "'!\"#$%&\\'()*+,-./:;<=>?@[\\\\]^_`{|}~'"
      ]
     },
     "execution_count": 25,
     "metadata": {},
     "output_type": "execute_result"
    }
   ],
   "source": [
    "# Removing punctuations\n",
    "\n",
    "punctuation"
   ]
  },
  {
   "cell_type": "code",
   "execution_count": 26,
   "metadata": {},
   "outputs": [],
   "source": [
    "# There is no new line (\\n) in punctuations. hence we will add that to punctuation\n",
    "\n",
    "punctuation = punctuation + \"\\n\""
   ]
  },
  {
   "cell_type": "code",
   "execution_count": 27,
   "metadata": {},
   "outputs": [
    {
     "data": {
      "text/plain": [
       "'!\"#$%&\\'()*+,-./:;<=>?@[\\\\]^_`{|}~\\n'"
      ]
     },
     "execution_count": 27,
     "metadata": {},
     "output_type": "execute_result"
    }
   ],
   "source": [
    "punctuation"
   ]
  },
  {
   "cell_type": "code",
   "execution_count": null,
   "metadata": {},
   "outputs": [],
   "source": []
  },
  {
   "cell_type": "markdown",
   "metadata": {},
   "source": [
    "### Word Frequencies"
   ]
  },
  {
   "cell_type": "markdown",
   "metadata": {},
   "source": [
    "- Word frequency is counting the number of times a word has occured in a text."
   ]
  },
  {
   "cell_type": "code",
   "execution_count": 28,
   "metadata": {},
   "outputs": [],
   "source": [
    "word_frequency = {}\n",
    "for word in doc:\n",
    "    if word.text.lower() not in stopwords:\n",
    "        if word.text.lower() not in punctuation:\n",
    "            if word.text not in word_frequency.keys():\n",
    "                word_frequency[word.text] = 1\n",
    "            else:\n",
    "                word_frequency[word.text] += 1"
   ]
  },
  {
   "cell_type": "markdown",
   "metadata": {},
   "source": [
    "The above code means as follows:\n",
    "    1. Create a dictionary called word_frequency\n",
    "    2. For each word in doc\n",
    "    3. If the word is not a stopword\n",
    "    4. If the word is not a punctuation\n",
    "    5. If the word is not a key in word_frequency dictionary\n",
    "    6. Then add the word to word_frequency and give value as 1.\n",
    "    7. If the word is already present in word_frequency then increament the value in front of that word"
   ]
  },
  {
   "cell_type": "code",
   "execution_count": 30,
   "metadata": {},
   "outputs": [
    {
     "name": "stdout",
     "output_type": "stream",
     "text": [
      "{'Earth': 17, 'planet': 2, 'Sun': 3, 'astronomical': 1, 'object': 1, 'known': 2, 'harbor': 1, 'life': 1, 'According': 1, 'radiometric': 1, 'dating': 1, 'evidence': 1, 'formed': 1, '4.5': 1, 'billion': 1, 'years': 2, 'ago': 1, 'gravity': 1, 'interacts': 1, 'objects': 1, 'space': 1, 'especially': 1, 'Moon': 2, 'natural': 1, 'satellite': 1, 'orbits': 1, '365.256': 1, 'solar': 1, 'days': 2, 'period': 1, 'sidereal': 3, 'year': 2, 'time': 1, 'rotates': 1, 'axis': 3, '366.256': 2, 'times': 1, 'rotation': 2, 'tilted': 1, 'respect': 1, 'orbital': 1, 'plane': 1, 'producing': 1, 'seasons': 1, 'gravitational': 1, 'interaction': 1, 'causes': 1, 'tides': 1, 'stabilizes': 1, 'orientation': 1, 'gradually': 1, 'slows': 1, 'densest': 1, 'Solar': 1, 'System': 1, 'largest': 1, 'massive': 1, 'rocky': 1, 'planets': 1, 'outer': 2, 'layer': 1, 'lithosphere': 1, 'divided': 1, 'rigid': 1, 'tectonic': 1, 'plates': 1, 'migrate': 1, 'surface': 2, 'millions': 1, '29': 1, 'land': 1, 'consisting': 1, 'continents': 1, 'islands': 1, 'remaining': 1, '71': 1, 'covered': 2, 'water': 2, 'oceans': 1, 'lakes': 1, 'rivers': 1, 'fresh': 1, 'constitute': 1, 'hydrosphere': 1, 'majority': 1, 'polar': 1, 'regions': 1, 'ice': 4, 'including': 1, 'Antarctic': 1, 'sheet': 1, 'sea': 1, 'Arctic': 1, 'pack': 1, 'interior': 1, 'remains': 1, 'active': 1, 'solid': 1, 'iron': 1, 'inner': 1, 'core': 2, 'liquid': 1, 'generates': 1, 'magnetic': 1, 'field': 1, 'convecting': 1, 'mantle': 1, 'drives': 1, 'plate': 1, 'tectonics': 1}\n"
     ]
    }
   ],
   "source": [
    "print(word_frequency)"
   ]
  },
  {
   "cell_type": "code",
   "execution_count": 31,
   "metadata": {},
   "outputs": [],
   "source": [
    "# Take the max_frequency\n",
    "\n",
    "max_freq = max(word_frequency.values())"
   ]
  },
  {
   "cell_type": "code",
   "execution_count": 32,
   "metadata": {},
   "outputs": [
    {
     "data": {
      "text/plain": [
       "17"
      ]
     },
     "execution_count": 32,
     "metadata": {},
     "output_type": "execute_result"
    }
   ],
   "source": [
    "max_freq"
   ]
  },
  {
   "cell_type": "markdown",
   "metadata": {},
   "source": [
    "- Now we will divide each of the word_freq values by 17 so that normalized frequency can be achieved."
   ]
  },
  {
   "cell_type": "code",
   "execution_count": 33,
   "metadata": {},
   "outputs": [],
   "source": [
    "for word in word_frequency.keys():\n",
    "    word_frequency[word] = word_frequency[word]/max_freq"
   ]
  },
  {
   "cell_type": "code",
   "execution_count": 34,
   "metadata": {},
   "outputs": [
    {
     "name": "stdout",
     "output_type": "stream",
     "text": [
      "{'Earth': 1.0, 'planet': 0.11764705882352941, 'Sun': 0.17647058823529413, 'astronomical': 0.058823529411764705, 'object': 0.058823529411764705, 'known': 0.11764705882352941, 'harbor': 0.058823529411764705, 'life': 0.058823529411764705, 'According': 0.058823529411764705, 'radiometric': 0.058823529411764705, 'dating': 0.058823529411764705, 'evidence': 0.058823529411764705, 'formed': 0.058823529411764705, '4.5': 0.058823529411764705, 'billion': 0.058823529411764705, 'years': 0.11764705882352941, 'ago': 0.058823529411764705, 'gravity': 0.058823529411764705, 'interacts': 0.058823529411764705, 'objects': 0.058823529411764705, 'space': 0.058823529411764705, 'especially': 0.058823529411764705, 'Moon': 0.11764705882352941, 'natural': 0.058823529411764705, 'satellite': 0.058823529411764705, 'orbits': 0.058823529411764705, '365.256': 0.058823529411764705, 'solar': 0.058823529411764705, 'days': 0.11764705882352941, 'period': 0.058823529411764705, 'sidereal': 0.17647058823529413, 'year': 0.11764705882352941, 'time': 0.058823529411764705, 'rotates': 0.058823529411764705, 'axis': 0.17647058823529413, '366.256': 0.11764705882352941, 'times': 0.058823529411764705, 'rotation': 0.11764705882352941, 'tilted': 0.058823529411764705, 'respect': 0.058823529411764705, 'orbital': 0.058823529411764705, 'plane': 0.058823529411764705, 'producing': 0.058823529411764705, 'seasons': 0.058823529411764705, 'gravitational': 0.058823529411764705, 'interaction': 0.058823529411764705, 'causes': 0.058823529411764705, 'tides': 0.058823529411764705, 'stabilizes': 0.058823529411764705, 'orientation': 0.058823529411764705, 'gradually': 0.058823529411764705, 'slows': 0.058823529411764705, 'densest': 0.058823529411764705, 'Solar': 0.058823529411764705, 'System': 0.058823529411764705, 'largest': 0.058823529411764705, 'massive': 0.058823529411764705, 'rocky': 0.058823529411764705, 'planets': 0.058823529411764705, 'outer': 0.11764705882352941, 'layer': 0.058823529411764705, 'lithosphere': 0.058823529411764705, 'divided': 0.058823529411764705, 'rigid': 0.058823529411764705, 'tectonic': 0.058823529411764705, 'plates': 0.058823529411764705, 'migrate': 0.058823529411764705, 'surface': 0.11764705882352941, 'millions': 0.058823529411764705, '29': 0.058823529411764705, 'land': 0.058823529411764705, 'consisting': 0.058823529411764705, 'continents': 0.058823529411764705, 'islands': 0.058823529411764705, 'remaining': 0.058823529411764705, '71': 0.058823529411764705, 'covered': 0.11764705882352941, 'water': 0.11764705882352941, 'oceans': 0.058823529411764705, 'lakes': 0.058823529411764705, 'rivers': 0.058823529411764705, 'fresh': 0.058823529411764705, 'constitute': 0.058823529411764705, 'hydrosphere': 0.058823529411764705, 'majority': 0.058823529411764705, 'polar': 0.058823529411764705, 'regions': 0.058823529411764705, 'ice': 0.23529411764705882, 'including': 0.058823529411764705, 'Antarctic': 0.058823529411764705, 'sheet': 0.058823529411764705, 'sea': 0.058823529411764705, 'Arctic': 0.058823529411764705, 'pack': 0.058823529411764705, 'interior': 0.058823529411764705, 'remains': 0.058823529411764705, 'active': 0.058823529411764705, 'solid': 0.058823529411764705, 'iron': 0.058823529411764705, 'inner': 0.058823529411764705, 'core': 0.11764705882352941, 'liquid': 0.058823529411764705, 'generates': 0.058823529411764705, 'magnetic': 0.058823529411764705, 'field': 0.058823529411764705, 'convecting': 0.058823529411764705, 'mantle': 0.058823529411764705, 'drives': 0.058823529411764705, 'plate': 0.058823529411764705, 'tectonics': 0.058823529411764705}\n"
     ]
    }
   ],
   "source": [
    "print(word_frequency)"
   ]
  },
  {
   "cell_type": "code",
   "execution_count": null,
   "metadata": {},
   "outputs": [],
   "source": []
  },
  {
   "cell_type": "markdown",
   "metadata": {},
   "source": [
    "### Sentence Tokenization"
   ]
  },
  {
   "cell_type": "code",
   "execution_count": 35,
   "metadata": {},
   "outputs": [],
   "source": [
    "sent_token = [sent for sent in doc.sents]"
   ]
  },
  {
   "cell_type": "code",
   "execution_count": 38,
   "metadata": {},
   "outputs": [
    {
     "name": "stdout",
     "output_type": "stream",
     "text": [
      "[Earth is the third planet from the Sun and the only astronomical object known to harbor life., According to radiometric dating and other evidence, Earth formed over 4.5 billion years ago., Earth's gravity interacts with other objects in space, especially the Sun and the Moon, which is Earth's only natural satellite., Earth orbits around the Sun in 365.256 solar days, a period known as an Earth sidereal year., During this time, Earth rotates about its axis 366.256 times, that is, a sidereal year has 366.256 sidereal days., Earth's axis of rotation is tilted with respect to its orbital plane, producing seasons on Earth. \n",
      ", The gravitational interaction between Earth and the Moon causes tides, stabilizes Earth's orientation on its axis, and gradually slows its rotation., Earth is the densest planet in the Solar System and the largest and most massive of the four rocky planets.\n",
      ", Earth's outer layer (lithosphere) is divided into several rigid tectonic plates that migrate across the surface over many millions of years., About 29% of Earth's surface is land consisting of continents and islands., The remaining 71% is covered with water, mostly by oceans but also lakes, rivers and other fresh water, which all together constitute the hydrosphere., The majority of Earth's polar regions are covered in ice, including the Antarctic ice sheet and the sea ice of the Arctic ice pack., Earth's interior remains active with a solid iron inner core, a liquid outer core that generates Earth's magnetic field, and a convecting mantle that drives plate tectonics.]\n"
     ]
    }
   ],
   "source": [
    "print(sent_token)"
   ]
  },
  {
   "cell_type": "code",
   "execution_count": null,
   "metadata": {},
   "outputs": [],
   "source": []
  },
  {
   "cell_type": "markdown",
   "metadata": {},
   "source": [
    "### Calculating Sentence Score"
   ]
  },
  {
   "cell_type": "code",
   "execution_count": 39,
   "metadata": {},
   "outputs": [],
   "source": [
    "sent_score = {}\n",
    "for sent in sent_token:\n",
    "    for word in sent:\n",
    "        if word.text.lower() in word_frequency.keys():\n",
    "            if sent not in sent_score.keys():\n",
    "                sent_score[sent] = word_frequency[word.text.lower()]\n",
    "            else:\n",
    "                sent_score[sent] += word_frequency[word.text.lower()]"
   ]
  },
  {
   "cell_type": "code",
   "execution_count": 40,
   "metadata": {},
   "outputs": [
    {
     "name": "stdout",
     "output_type": "stream",
     "text": [
      "{Earth is the third planet from the Sun and the only astronomical object known to harbor life.: 0.47058823529411764, According to radiometric dating and other evidence, Earth formed over 4.5 billion years ago.: 0.5294117647058824, Earth's gravity interacts with other objects in space, especially the Sun and the Moon, which is Earth's only natural satellite.: 0.411764705882353, Earth orbits around the Sun in 365.256 solar days, a period known as an Earth sidereal year.: 0.7647058823529412, During this time, Earth rotates about its axis 366.256 times, that is, a sidereal year has 366.256 sidereal days.: 1.1764705882352942, Earth's axis of rotation is tilted with respect to its orbital plane, producing seasons on Earth. \n",
      ": 0.6470588235294118, The gravitational interaction between Earth and the Moon causes tides, stabilizes Earth's orientation on its axis, and gradually slows its rotation.: 0.7647058823529412, Earth is the densest planet in the Solar System and the largest and most massive of the four rocky planets.\n",
      ": 0.4705882352941177, Earth's outer layer (lithosphere) is divided into several rigid tectonic plates that migrate across the surface over many millions of years.: 0.823529411764706, About 29% of Earth's surface is land consisting of continents and islands.: 0.411764705882353, The remaining 71% is covered with water, mostly by oceans but also lakes, rivers and other fresh water, which all together constitute the hydrosphere.: 0.823529411764706, The majority of Earth's polar regions are covered in ice, including the Antarctic ice sheet and the sea ice of the Arctic ice pack.: 1.4705882352941178, Earth's interior remains active with a solid iron inner core, a liquid outer core that generates Earth's magnetic field, and a convecting mantle that drives plate tectonics.: 1.2352941176470589}\n"
     ]
    }
   ],
   "source": [
    "print(sent_score)"
   ]
  },
  {
   "cell_type": "code",
   "execution_count": null,
   "metadata": {},
   "outputs": [],
   "source": []
  },
  {
   "cell_type": "markdown",
   "metadata": {},
   "source": [
    "### Getting the 30% sentences with maximum score"
   ]
  },
  {
   "cell_type": "code",
   "execution_count": 41,
   "metadata": {},
   "outputs": [],
   "source": [
    "from heapq import nlargest"
   ]
  },
  {
   "cell_type": "code",
   "execution_count": 42,
   "metadata": {},
   "outputs": [],
   "source": [
    "select_length = int(len(sent_token) * 0.3)"
   ]
  },
  {
   "cell_type": "code",
   "execution_count": 43,
   "metadata": {},
   "outputs": [
    {
     "data": {
      "text/plain": [
       "3"
      ]
     },
     "execution_count": 43,
     "metadata": {},
     "output_type": "execute_result"
    }
   ],
   "source": [
    "# 30% of total sentences in the text\n",
    "select_length"
   ]
  },
  {
   "cell_type": "markdown",
   "metadata": {},
   "source": [
    "- Hence we have to select most important 3 sentences from the entire text"
   ]
  },
  {
   "cell_type": "code",
   "execution_count": null,
   "metadata": {},
   "outputs": [],
   "source": []
  },
  {
   "cell_type": "code",
   "execution_count": 44,
   "metadata": {},
   "outputs": [],
   "source": [
    "summary = nlargest(select_length, sent_score, key = sent_score.get)"
   ]
  },
  {
   "cell_type": "code",
   "execution_count": 45,
   "metadata": {},
   "outputs": [
    {
     "data": {
      "text/plain": [
       "[The majority of Earth's polar regions are covered in ice, including the Antarctic ice sheet and the sea ice of the Arctic ice pack.,\n",
       " Earth's interior remains active with a solid iron inner core, a liquid outer core that generates Earth's magnetic field, and a convecting mantle that drives plate tectonics.,\n",
       " During this time, Earth rotates about its axis 366.256 times, that is, a sidereal year has 366.256 sidereal days.]"
      ]
     },
     "execution_count": 45,
     "metadata": {},
     "output_type": "execute_result"
    }
   ],
   "source": [
    "summary"
   ]
  },
  {
   "cell_type": "code",
   "execution_count": null,
   "metadata": {},
   "outputs": [],
   "source": []
  },
  {
   "cell_type": "code",
   "execution_count": 47,
   "metadata": {},
   "outputs": [],
   "source": [
    "### Combining the sentences together\n",
    "\n",
    "final_summary = [word.text for word in summary]"
   ]
  },
  {
   "cell_type": "code",
   "execution_count": 48,
   "metadata": {},
   "outputs": [],
   "source": [
    "summary = \" \".join(final_summary)"
   ]
  },
  {
   "cell_type": "code",
   "execution_count": 50,
   "metadata": {},
   "outputs": [
    {
     "name": "stdout",
     "output_type": "stream",
     "text": [
      "Earth is the third planet from the Sun and the only astronomical object known to harbor life. According to radiometric dating and other evidence, Earth formed over 4.5 billion years ago. Earth's gravity interacts with other objects in space, especially the Sun and the Moon, which is Earth's only natural satellite. Earth orbits around the Sun in 365.256 solar days, a period known as an Earth sidereal year. During this time, Earth rotates about its axis 366.256 times, that is, a sidereal year has 366.256 sidereal days. Earth's axis of rotation is tilted with respect to its orbital plane, producing seasons on Earth. \n",
      "The gravitational interaction between Earth and the Moon causes tides, stabilizes Earth's orientation on its axis, and gradually slows its rotation. Earth is the densest planet in the Solar System and the largest and most massive of the four rocky planets.\n",
      "Earth's outer layer (lithosphere) is divided into several rigid tectonic plates that migrate across the surface over many millions of years. About 29% of Earth's surface is land consisting of continents and islands. The remaining 71% is covered with water, mostly by oceans but also lakes, rivers and other fresh water, which all together constitute the hydrosphere. The majority of Earth's polar regions are covered in ice, including the Antarctic ice sheet and the sea ice of the Arctic ice pack. Earth's interior remains active with a solid iron inner core, a liquid outer core that generates Earth's magnetic field, and a convecting mantle that drives plate tectonics.\n"
     ]
    }
   ],
   "source": [
    "print(text)"
   ]
  },
  {
   "cell_type": "code",
   "execution_count": 51,
   "metadata": {},
   "outputs": [
    {
     "name": "stdout",
     "output_type": "stream",
     "text": [
      "The majority of Earth's polar regions are covered in ice, including the Antarctic ice sheet and the sea ice of the Arctic ice pack. Earth's interior remains active with a solid iron inner core, a liquid outer core that generates Earth's magnetic field, and a convecting mantle that drives plate tectonics. During this time, Earth rotates about its axis 366.256 times, that is, a sidereal year has 366.256 sidereal days.\n"
     ]
    }
   ],
   "source": [
    "print(summary)"
   ]
  },
  {
   "cell_type": "code",
   "execution_count": null,
   "metadata": {},
   "outputs": [],
   "source": []
  },
  {
   "cell_type": "markdown",
   "metadata": {},
   "source": [
    "### Comparing the length of summary and original text"
   ]
  },
  {
   "cell_type": "code",
   "execution_count": 52,
   "metadata": {},
   "outputs": [
    {
     "data": {
      "text/plain": [
       "1551"
      ]
     },
     "execution_count": 52,
     "metadata": {},
     "output_type": "execute_result"
    }
   ],
   "source": [
    "len(text)"
   ]
  },
  {
   "cell_type": "code",
   "execution_count": 53,
   "metadata": {},
   "outputs": [
    {
     "data": {
      "text/plain": [
       "419"
      ]
     },
     "execution_count": 53,
     "metadata": {},
     "output_type": "execute_result"
    }
   ],
   "source": [
    "len(summary)"
   ]
  },
  {
   "cell_type": "code",
   "execution_count": 56,
   "metadata": {},
   "outputs": [
    {
     "data": {
      "text/plain": [
       "0.27014829142488717"
      ]
     },
     "execution_count": 56,
     "metadata": {},
     "output_type": "execute_result"
    }
   ],
   "source": [
    "#The length of summary is almost 30% of original text\n",
    "\n",
    "419/1551"
   ]
  },
  {
   "cell_type": "code",
   "execution_count": null,
   "metadata": {},
   "outputs": [],
   "source": []
  },
  {
   "cell_type": "code",
   "execution_count": null,
   "metadata": {},
   "outputs": [],
   "source": []
  },
  {
   "cell_type": "markdown",
   "metadata": {},
   "source": [
    "#### Extraction-based summarization\n",
    "\n",
    "The extractive text summarization technique involves pulling keyphrases from the source document and combining them to make a summary. The extraction is made according to the defined metric without making any changes to the texts.\n",
    "Here is an example:\n",
    "Source text: Joseph and Mary rode on a donkey to attend the annual event in Jerusalem. In the city, Mary gave birth to a child named Jesus.\n",
    "Extractive summary: Joseph and Mary attend event Jerusalem. Mary birth Jesus.\n",
    "As you can see above, the words in bold have been extracted and joined to create a summary — although sometimes the summary can be grammatically strange.\n",
    "\n",
    "#### Abstraction-based summarization\n",
    "\n",
    "The abstraction technique entails paraphrasing and shortening parts of the source document. When abstraction is applied for text summarization in deep learning problems, it can overcome the grammar inconsistencies of the extractive method.\n",
    "The abstractive text summarization algorithms create new phrases and sentences that relay the most useful information from the original text — just like humans do.\n",
    "Therefore, abstraction performs better than extraction. However, the text summarization algorithms required to do abstraction are more difficult to develop; that’s why the use of extraction is still popular.\n",
    "Here is an example:\n",
    "Abstractive summary: Joseph and Mary came to Jerusalem where Jesus was born."
   ]
  },
  {
   "cell_type": "markdown",
   "metadata": {},
   "source": [
    "#### How does a text summarization algorithm work?\n",
    "\n",
    "Usually, text summarization in NLP is treated as a supervised machine learning problem (where future outcomes are predicted based on provided data).\n",
    "Typically, here is how using the extraction-based approach to summarize texts can work:\n",
    "1. Introduce a method to extract the merited keyphrases from the source document. For example, you can use part-of-speech tagging, words sequences, or other linguistic patterns to identify the keyphrases.\n",
    "2. Gather text documents with positively-labeled keyphrases. The keyphrases should be compatible to the stipulated extraction technique. To increase accuracy, you can also create negatively-labeled keyphrases.\n",
    "3. Train a binary machine learning classifier to make the text summarization. Some of the features you can use include:\n",
    "Length of the keyphrase\n",
    "Frequency of the keyphrase\n",
    "The most recurring word in the keyphrase\n",
    "Number of characters in the keyphrase\n",
    "4. Finally, in the test phrase, create all the keyphrase words and sentences and carry out classification for them.\n"
   ]
  },
  {
   "cell_type": "code",
   "execution_count": null,
   "metadata": {},
   "outputs": [],
   "source": []
  }
 ],
 "metadata": {
  "kernelspec": {
   "display_name": "Python 3",
   "language": "python",
   "name": "python3"
  },
  "language_info": {
   "codemirror_mode": {
    "name": "ipython",
    "version": 3
   },
   "file_extension": ".py",
   "mimetype": "text/x-python",
   "name": "python",
   "nbconvert_exporter": "python",
   "pygments_lexer": "ipython3",
   "version": "3.7.3"
  }
 },
 "nbformat": 4,
 "nbformat_minor": 2
}
